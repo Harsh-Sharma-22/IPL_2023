{
 "cells": [
  {
   "cell_type": "code",
   "execution_count": 2,
   "id": "caf2f2c3",
   "metadata": {},
   "outputs": [],
   "source": [
    "#including required libraries\n",
    "import pandas as pd\n",
    "from matplotlib import pyplot as plt\n",
    "import seaborn as sns"
   ]
  },
  {
   "cell_type": "code",
   "execution_count": 3,
   "id": "b1b5145a",
   "metadata": {},
   "outputs": [],
   "source": [
    "#loading the dataset\n",
    "ipl=pd.read_csv(\"matches.csv\")"
   ]
  },
  {
   "cell_type": "code",
   "execution_count": 4,
   "id": "f6d12d3a",
   "metadata": {
    "scrolled": true
   },
   "outputs": [
    {
     "data": {
      "text/html": [
       "<div>\n",
       "<style scoped>\n",
       "    .dataframe tbody tr th:only-of-type {\n",
       "        vertical-align: middle;\n",
       "    }\n",
       "\n",
       "    .dataframe tbody tr th {\n",
       "        vertical-align: top;\n",
       "    }\n",
       "\n",
       "    .dataframe thead th {\n",
       "        text-align: right;\n",
       "    }\n",
       "</style>\n",
       "<table border=\"1\" class=\"dataframe\">\n",
       "  <thead>\n",
       "    <tr style=\"text-align: right;\">\n",
       "      <th></th>\n",
       "      <th>season</th>\n",
       "      <th>team1</th>\n",
       "      <th>team2</th>\n",
       "      <th>date</th>\n",
       "      <th>match_number</th>\n",
       "      <th>venue</th>\n",
       "      <th>city</th>\n",
       "      <th>toss_winner</th>\n",
       "      <th>toss_decision</th>\n",
       "      <th>player_of_match</th>\n",
       "      <th>umpire1</th>\n",
       "      <th>umpire2</th>\n",
       "      <th>reserve_umpire</th>\n",
       "      <th>match_referee</th>\n",
       "      <th>winner</th>\n",
       "      <th>winner_runs</th>\n",
       "      <th>winner_wickets</th>\n",
       "      <th>match_type</th>\n",
       "    </tr>\n",
       "  </thead>\n",
       "  <tbody>\n",
       "    <tr>\n",
       "      <th>0</th>\n",
       "      <td>2023</td>\n",
       "      <td>Chennai Super Kings</td>\n",
       "      <td>Gujarat Titans</td>\n",
       "      <td>2023/03/31</td>\n",
       "      <td>1</td>\n",
       "      <td>Narendra Modi Stadium</td>\n",
       "      <td>Ahmedabad</td>\n",
       "      <td>Gujarat Titans</td>\n",
       "      <td>field</td>\n",
       "      <td>Rashid Khan</td>\n",
       "      <td>Nitin Menon</td>\n",
       "      <td>HAS Khalid</td>\n",
       "      <td>A Bengeri</td>\n",
       "      <td>J Srinath</td>\n",
       "      <td>Gujarat Titans</td>\n",
       "      <td>NaN</td>\n",
       "      <td>5.0</td>\n",
       "      <td>Group</td>\n",
       "    </tr>\n",
       "    <tr>\n",
       "      <th>1</th>\n",
       "      <td>2023</td>\n",
       "      <td>Punjab Kings</td>\n",
       "      <td>Kolkata Knight Riders</td>\n",
       "      <td>2023/04/01</td>\n",
       "      <td>2</td>\n",
       "      <td>Punjab Cricket Association IS Bindra Stadium</td>\n",
       "      <td>Chandigarh</td>\n",
       "      <td>Kolkata Knight Riders</td>\n",
       "      <td>field</td>\n",
       "      <td>Arshdeep Singh</td>\n",
       "      <td>BNJ Oxenford</td>\n",
       "      <td>YC Barde</td>\n",
       "      <td>PM Joshi</td>\n",
       "      <td>M Nayyar</td>\n",
       "      <td>Punjab Kings</td>\n",
       "      <td>7.0</td>\n",
       "      <td>NaN</td>\n",
       "      <td>Group</td>\n",
       "    </tr>\n",
       "    <tr>\n",
       "      <th>2</th>\n",
       "      <td>2023</td>\n",
       "      <td>Lucknow Super Giants</td>\n",
       "      <td>Delhi Capitals</td>\n",
       "      <td>2023/04/01</td>\n",
       "      <td>3</td>\n",
       "      <td>Bharat Ratna Shri Atal Bihari Vajpayee Ekana C...</td>\n",
       "      <td>Lucknow</td>\n",
       "      <td>Delhi Capitals</td>\n",
       "      <td>field</td>\n",
       "      <td>MA Wood</td>\n",
       "      <td>AK Chaudhary</td>\n",
       "      <td>NA Patwardhan</td>\n",
       "      <td>M Kuppuraj</td>\n",
       "      <td>DS Manohar</td>\n",
       "      <td>Lucknow Super Giants</td>\n",
       "      <td>50.0</td>\n",
       "      <td>NaN</td>\n",
       "      <td>Group</td>\n",
       "    </tr>\n",
       "    <tr>\n",
       "      <th>3</th>\n",
       "      <td>2023</td>\n",
       "      <td>Rajasthan Royals</td>\n",
       "      <td>Sunrisers Hyderabad</td>\n",
       "      <td>2023/04/02</td>\n",
       "      <td>4</td>\n",
       "      <td>Rajiv Gandhi International Stadium</td>\n",
       "      <td>Hyderabad</td>\n",
       "      <td>Sunrisers Hyderabad</td>\n",
       "      <td>field</td>\n",
       "      <td>JC Buttler</td>\n",
       "      <td>KN Ananthapadmanabhan</td>\n",
       "      <td>R Pandit</td>\n",
       "      <td>Abhijit Bhattacharya</td>\n",
       "      <td>V Narayan Kutty</td>\n",
       "      <td>Rajasthan Royals</td>\n",
       "      <td>72.0</td>\n",
       "      <td>NaN</td>\n",
       "      <td>Group</td>\n",
       "    </tr>\n",
       "    <tr>\n",
       "      <th>4</th>\n",
       "      <td>2023</td>\n",
       "      <td>Mumbai Indians</td>\n",
       "      <td>Royal Challengers Bangalore</td>\n",
       "      <td>2023/04/02</td>\n",
       "      <td>5</td>\n",
       "      <td>M Chinnaswamy Stadium</td>\n",
       "      <td>Bengaluru</td>\n",
       "      <td>Royal Challengers Bangalore</td>\n",
       "      <td>field</td>\n",
       "      <td>F du Plessis</td>\n",
       "      <td>Nitin Menon</td>\n",
       "      <td>Tapan Sharma</td>\n",
       "      <td>A Bengeri</td>\n",
       "      <td>J Srinath</td>\n",
       "      <td>Royal Challengers Bangalore</td>\n",
       "      <td>NaN</td>\n",
       "      <td>8.0</td>\n",
       "      <td>Group</td>\n",
       "    </tr>\n",
       "  </tbody>\n",
       "</table>\n",
       "</div>"
      ],
      "text/plain": [
       "   season                 team1                        team2        date  \\\n",
       "0    2023   Chennai Super Kings               Gujarat Titans  2023/03/31   \n",
       "1    2023          Punjab Kings        Kolkata Knight Riders  2023/04/01   \n",
       "2    2023  Lucknow Super Giants               Delhi Capitals  2023/04/01   \n",
       "3    2023      Rajasthan Royals          Sunrisers Hyderabad  2023/04/02   \n",
       "4    2023        Mumbai Indians  Royal Challengers Bangalore  2023/04/02   \n",
       "\n",
       "   match_number                                              venue  \\\n",
       "0             1                              Narendra Modi Stadium   \n",
       "1             2       Punjab Cricket Association IS Bindra Stadium   \n",
       "2             3  Bharat Ratna Shri Atal Bihari Vajpayee Ekana C...   \n",
       "3             4                 Rajiv Gandhi International Stadium   \n",
       "4             5                              M Chinnaswamy Stadium   \n",
       "\n",
       "         city                  toss_winner toss_decision player_of_match  \\\n",
       "0   Ahmedabad               Gujarat Titans         field     Rashid Khan   \n",
       "1  Chandigarh        Kolkata Knight Riders         field  Arshdeep Singh   \n",
       "2     Lucknow               Delhi Capitals         field         MA Wood   \n",
       "3   Hyderabad          Sunrisers Hyderabad         field      JC Buttler   \n",
       "4   Bengaluru  Royal Challengers Bangalore         field    F du Plessis   \n",
       "\n",
       "                 umpire1        umpire2        reserve_umpire  \\\n",
       "0            Nitin Menon     HAS Khalid             A Bengeri   \n",
       "1           BNJ Oxenford       YC Barde              PM Joshi   \n",
       "2           AK Chaudhary  NA Patwardhan            M Kuppuraj   \n",
       "3  KN Ananthapadmanabhan       R Pandit  Abhijit Bhattacharya   \n",
       "4            Nitin Menon   Tapan Sharma             A Bengeri   \n",
       "\n",
       "     match_referee                       winner  winner_runs  winner_wickets  \\\n",
       "0        J Srinath               Gujarat Titans          NaN             5.0   \n",
       "1         M Nayyar                 Punjab Kings          7.0             NaN   \n",
       "2       DS Manohar         Lucknow Super Giants         50.0             NaN   \n",
       "3  V Narayan Kutty             Rajasthan Royals         72.0             NaN   \n",
       "4        J Srinath  Royal Challengers Bangalore          NaN             8.0   \n",
       "\n",
       "  match_type  \n",
       "0      Group  \n",
       "1      Group  \n",
       "2      Group  \n",
       "3      Group  \n",
       "4      Group  "
      ]
     },
     "execution_count": 4,
     "metadata": {},
     "output_type": "execute_result"
    }
   ],
   "source": [
    "#showing first 5 records\n",
    "ipl.head()"
   ]
  },
  {
   "cell_type": "code",
   "execution_count": 5,
   "id": "a4eac028",
   "metadata": {},
   "outputs": [
    {
     "data": {
      "text/plain": [
       "(74, 18)"
      ]
     },
     "execution_count": 5,
     "metadata": {},
     "output_type": "execute_result"
    }
   ],
   "source": [
    "#Total no. of rows and columns\n",
    "ipl.shape"
   ]
  },
  {
   "cell_type": "code",
   "execution_count": 6,
   "id": "0cd8b00d",
   "metadata": {},
   "outputs": [
    {
     "data": {
      "text/plain": [
       "Shubman Gill    4\n",
       "YBK Jaiswal     4\n",
       "MP Stoinis      3\n",
       "DP Conway       3\n",
       "RA Jadeja       3\n",
       "N Pooran        2\n",
       "RD Gaikwad      2\n",
       "SA Yadav        2\n",
       "CV Varun        2\n",
       "C Green         2\n",
       "Name: player_of_match, dtype: int64"
      ]
     },
     "execution_count": 6,
     "metadata": {},
     "output_type": "execute_result"
    }
   ],
   "source": [
    "#top 10 players with man of the match award\n",
    "ipl[\"player_of_match\"].value_counts()[0:10]"
   ]
  },
  {
   "cell_type": "code",
   "execution_count": 7,
   "id": "18a6fa2a",
   "metadata": {},
   "outputs": [
    {
     "data": {
      "image/png": "[encoded data removed]",
      "text/plain": [
       "<Figure size 1400x700 with 1 Axes>"
      ]
     },
     "metadata": {},
     "output_type": "display_data"
    }
   ],
   "source": [
    "#showing bar-plot for top 10 players with man of the match award\n",
    "l1=list(ipl[\"player_of_match\"].value_counts()[0:10].keys())\n",
    "l2=list(ipl[\"player_of_match\"].value_counts()[0:10])\n",
    "plt.figure(figsize=(14,7))\n",
    "plt.bar(l1,l2,color=\"c\")\n",
    "plt.show()"
   ]
  },
  {
   "cell_type": "code",
   "execution_count": 8,
   "id": "62246fca",
   "metadata": {},
   "outputs": [
    {
     "data": {
      "text/html": [
       "<div>\n",
       "<style scoped>\n",
       "    .dataframe tbody tr th:only-of-type {\n",
       "        vertical-align: middle;\n",
       "    }\n",
       "\n",
       "    .dataframe tbody tr th {\n",
       "        vertical-align: top;\n",
       "    }\n",
       "\n",
       "    .dataframe thead th {\n",
       "        text-align: right;\n",
       "    }\n",
       "</style>\n",
       "<table border=\"1\" class=\"dataframe\">\n",
       "  <thead>\n",
       "    <tr style=\"text-align: right;\">\n",
       "      <th></th>\n",
       "      <th>season</th>\n",
       "      <th>team1</th>\n",
       "      <th>team2</th>\n",
       "      <th>date</th>\n",
       "      <th>match_number</th>\n",
       "      <th>venue</th>\n",
       "      <th>city</th>\n",
       "      <th>toss_winner</th>\n",
       "      <th>toss_decision</th>\n",
       "      <th>player_of_match</th>\n",
       "      <th>umpire1</th>\n",
       "      <th>umpire2</th>\n",
       "      <th>reserve_umpire</th>\n",
       "      <th>match_referee</th>\n",
       "      <th>winner</th>\n",
       "      <th>winner_runs</th>\n",
       "      <th>winner_wickets</th>\n",
       "      <th>match_type</th>\n",
       "    </tr>\n",
       "  </thead>\n",
       "  <tbody>\n",
       "    <tr>\n",
       "      <th>1</th>\n",
       "      <td>2023</td>\n",
       "      <td>Punjab Kings</td>\n",
       "      <td>Kolkata Knight Riders</td>\n",
       "      <td>2023/04/01</td>\n",
       "      <td>2</td>\n",
       "      <td>Punjab Cricket Association IS Bindra Stadium</td>\n",
       "      <td>Chandigarh</td>\n",
       "      <td>Kolkata Knight Riders</td>\n",
       "      <td>field</td>\n",
       "      <td>Arshdeep Singh</td>\n",
       "      <td>BNJ Oxenford</td>\n",
       "      <td>YC Barde</td>\n",
       "      <td>PM Joshi</td>\n",
       "      <td>M Nayyar</td>\n",
       "      <td>Punjab Kings</td>\n",
       "      <td>7.0</td>\n",
       "      <td>0.0</td>\n",
       "      <td>Group</td>\n",
       "    </tr>\n",
       "    <tr>\n",
       "      <th>2</th>\n",
       "      <td>2023</td>\n",
       "      <td>Lucknow Super Giants</td>\n",
       "      <td>Delhi Capitals</td>\n",
       "      <td>2023/04/01</td>\n",
       "      <td>3</td>\n",
       "      <td>Bharat Ratna Shri Atal Bihari Vajpayee Ekana C...</td>\n",
       "      <td>Lucknow</td>\n",
       "      <td>Delhi Capitals</td>\n",
       "      <td>field</td>\n",
       "      <td>MA Wood</td>\n",
       "      <td>AK Chaudhary</td>\n",
       "      <td>NA Patwardhan</td>\n",
       "      <td>M Kuppuraj</td>\n",
       "      <td>DS Manohar</td>\n",
       "      <td>Lucknow Super Giants</td>\n",
       "      <td>50.0</td>\n",
       "      <td>0.0</td>\n",
       "      <td>Group</td>\n",
       "    </tr>\n",
       "    <tr>\n",
       "      <th>3</th>\n",
       "      <td>2023</td>\n",
       "      <td>Rajasthan Royals</td>\n",
       "      <td>Sunrisers Hyderabad</td>\n",
       "      <td>2023/04/02</td>\n",
       "      <td>4</td>\n",
       "      <td>Rajiv Gandhi International Stadium</td>\n",
       "      <td>Hyderabad</td>\n",
       "      <td>Sunrisers Hyderabad</td>\n",
       "      <td>field</td>\n",
       "      <td>JC Buttler</td>\n",
       "      <td>KN Ananthapadmanabhan</td>\n",
       "      <td>R Pandit</td>\n",
       "      <td>Abhijit Bhattacharya</td>\n",
       "      <td>V Narayan Kutty</td>\n",
       "      <td>Rajasthan Royals</td>\n",
       "      <td>72.0</td>\n",
       "      <td>0.0</td>\n",
       "      <td>Group</td>\n",
       "    </tr>\n",
       "    <tr>\n",
       "      <th>5</th>\n",
       "      <td>2023</td>\n",
       "      <td>Chennai Super Kings</td>\n",
       "      <td>Lucknow Super Giants</td>\n",
       "      <td>2023/04/03</td>\n",
       "      <td>6</td>\n",
       "      <td>MA Chidambaram Stadium</td>\n",
       "      <td>Chennai</td>\n",
       "      <td>Lucknow Super Giants</td>\n",
       "      <td>field</td>\n",
       "      <td>MM Ali</td>\n",
       "      <td>A Totre</td>\n",
       "      <td>BNJ Oxenford</td>\n",
       "      <td>PM Joshi</td>\n",
       "      <td>M Nayyar</td>\n",
       "      <td>Chennai Super Kings</td>\n",
       "      <td>12.0</td>\n",
       "      <td>0.0</td>\n",
       "      <td>Group</td>\n",
       "    </tr>\n",
       "    <tr>\n",
       "      <th>7</th>\n",
       "      <td>2023</td>\n",
       "      <td>Punjab Kings</td>\n",
       "      <td>Rajasthan Royals</td>\n",
       "      <td>2023/04/05</td>\n",
       "      <td>8</td>\n",
       "      <td>Barsapara Cricket Stadium</td>\n",
       "      <td>Guwahati</td>\n",
       "      <td>Rajasthan Royals</td>\n",
       "      <td>field</td>\n",
       "      <td>NT Ellis</td>\n",
       "      <td>KN Ananthapadmanabhan</td>\n",
       "      <td>MV Saidharshan Kumar</td>\n",
       "      <td>Abhijit Bhattacharya</td>\n",
       "      <td>V Narayan Kutty</td>\n",
       "      <td>Punjab Kings</td>\n",
       "      <td>5.0</td>\n",
       "      <td>0.0</td>\n",
       "      <td>Group</td>\n",
       "    </tr>\n",
       "  </tbody>\n",
       "</table>\n",
       "</div>"
      ],
      "text/plain": [
       "   season                 team1                  team2        date  \\\n",
       "1    2023          Punjab Kings  Kolkata Knight Riders  2023/04/01   \n",
       "2    2023  Lucknow Super Giants         Delhi Capitals  2023/04/01   \n",
       "3    2023      Rajasthan Royals    Sunrisers Hyderabad  2023/04/02   \n",
       "5    2023   Chennai Super Kings   Lucknow Super Giants  2023/04/03   \n",
       "7    2023          Punjab Kings       Rajasthan Royals  2023/04/05   \n",
       "\n",
       "   match_number                                              venue  \\\n",
       "1             2       Punjab Cricket Association IS Bindra Stadium   \n",
       "2             3  Bharat Ratna Shri Atal Bihari Vajpayee Ekana C...   \n",
       "3             4                 Rajiv Gandhi International Stadium   \n",
       "5             6                             MA Chidambaram Stadium   \n",
       "7             8                          Barsapara Cricket Stadium   \n",
       "\n",
       "         city            toss_winner toss_decision player_of_match  \\\n",
       "1  Chandigarh  Kolkata Knight Riders         field  Arshdeep Singh   \n",
       "2     Lucknow         Delhi Capitals         field         MA Wood   \n",
       "3   Hyderabad    Sunrisers Hyderabad         field      JC Buttler   \n",
       "5     Chennai   Lucknow Super Giants         field          MM Ali   \n",
       "7    Guwahati       Rajasthan Royals         field        NT Ellis   \n",
       "\n",
       "                 umpire1               umpire2        reserve_umpire  \\\n",
       "1           BNJ Oxenford              YC Barde              PM Joshi   \n",
       "2           AK Chaudhary         NA Patwardhan            M Kuppuraj   \n",
       "3  KN Ananthapadmanabhan              R Pandit  Abhijit Bhattacharya   \n",
       "5                A Totre          BNJ Oxenford              PM Joshi   \n",
       "7  KN Ananthapadmanabhan  MV Saidharshan Kumar  Abhijit Bhattacharya   \n",
       "\n",
       "     match_referee                winner  winner_runs  winner_wickets  \\\n",
       "1         M Nayyar          Punjab Kings          7.0             0.0   \n",
       "2       DS Manohar  Lucknow Super Giants         50.0             0.0   \n",
       "3  V Narayan Kutty      Rajasthan Royals         72.0             0.0   \n",
       "5         M Nayyar   Chennai Super Kings         12.0             0.0   \n",
       "7  V Narayan Kutty          Punjab Kings          5.0             0.0   \n",
       "\n",
       "  match_type  \n",
       "1      Group  \n",
       "2      Group  \n",
       "3      Group  \n",
       "5      Group  \n",
       "7      Group  "
      ]
     },
     "execution_count": 8,
     "metadata": {},
     "output_type": "execute_result"
    }
   ],
   "source": [
    "#extracting the records where a team won by batting first\n",
    "ipl.fillna(0,inplace=True)\n",
    "bat_first=ipl[ipl[\"winner_runs\"]!=0]\n",
    "bat_first.head()"
   ]
  },
  {
   "cell_type": "code",
   "execution_count": 9,
   "id": "91cf90ac",
   "metadata": {},
   "outputs": [
    {
     "data": {
      "image/png": "[encoded data removed]",
      "text/plain": [
       "<Figure size 640x480 with 1 Axes>"
      ]
     },
     "metadata": {},
     "output_type": "display_data"
    }
   ],
   "source": [
    "#making histogram\n",
    "plt.hist(bat_first[\"winner_runs\"])\n",
    "plt.title(\"Distribution of Runs\")\n",
    "plt.xlabel(\"Runs\")\n",
    "plt.show()"
   ]
  },
  {
   "cell_type": "code",
   "execution_count": 10,
   "id": "41da4718",
   "metadata": {},
   "outputs": [
    {
     "data": {
      "text/plain": [
       "Chennai Super Kings            6\n",
       "Lucknow Super Giants           5\n",
       "Royal Challengers Bangalore    5\n",
       "Gujarat Titans                 5\n",
       "Punjab Kings                   4\n",
       "Rajasthan Royals               4\n",
       "Kolkata Knight Riders          3\n",
       "Mumbai Indians                 3\n",
       "Delhi Capitals                 3\n",
       "Sunrisers Hyderabad            2\n",
       "Name: winner, dtype: int64"
      ]
     },
     "execution_count": 10,
     "metadata": {},
     "output_type": "execute_result"
    }
   ],
   "source": [
    "#finding no. of wins w.r.t. each team by batting first\n",
    "bat_first[\"winner\"].value_counts()"
   ]
  },
  {
   "cell_type": "code",
   "execution_count": 11,
   "id": "49f5119c",
   "metadata": {},
   "outputs": [
    {
     "data": {
      "image/png": "[encoded data removed]",
      "text/plain": [
       "<Figure size 1000x300 with 1 Axes>"
      ]
     },
     "metadata": {},
     "output_type": "display_data"
    }
   ],
   "source": [
    "#Bar-plot for top 3 teams who win by batting first\n",
    "plt.figure(figsize=(10,3))\n",
    "l1=list(bat_first[\"winner\"].value_counts()[0:3].keys())\n",
    "l2=list(bat_first[\"winner\"].value_counts()[0:3])\n",
    "plt.bar(l1,l2)\n",
    "plt.show()"
   ]
  },
  {
   "cell_type": "code",
   "execution_count": 12,
   "id": "4bc23920",
   "metadata": {},
   "outputs": [
    {
     "data": {
      "image/png": "[encoded data removed]",
      "text/plain": [
       "<Figure size 640x480 with 1 Axes>"
      ]
     },
     "metadata": {},
     "output_type": "display_data"
    }
   ],
   "source": [
    "#making a pie-chart\n",
    "plt.pie(l2,labels=l1,autopct=\"%0.1f%%\")\n",
    "plt.title(\"Winning by batting first(Top-3)\")\n",
    "plt.show()"
   ]
  },
  {
   "cell_type": "code",
   "execution_count": 42,
   "id": "8ad7dadd",
   "metadata": {},
   "outputs": [
    {
     "data": {
      "text/html": [
       "<div>\n",
       "<style scoped>\n",
       "    .dataframe tbody tr th:only-of-type {\n",
       "        vertical-align: middle;\n",
       "    }\n",
       "\n",
       "    .dataframe tbody tr th {\n",
       "        vertical-align: top;\n",
       "    }\n",
       "\n",
       "    .dataframe thead th {\n",
       "        text-align: right;\n",
       "    }\n",
       "</style>\n",
       "<table border=\"1\" class=\"dataframe\">\n",
       "  <thead>\n",
       "    <tr style=\"text-align: right;\">\n",
       "      <th></th>\n",
       "      <th>season</th>\n",
       "      <th>team1</th>\n",
       "      <th>team2</th>\n",
       "      <th>date</th>\n",
       "      <th>match_number</th>\n",
       "      <th>venue</th>\n",
       "      <th>city</th>\n",
       "      <th>toss_winner</th>\n",
       "      <th>toss_decision</th>\n",
       "      <th>player_of_match</th>\n",
       "      <th>umpire1</th>\n",
       "      <th>umpire2</th>\n",
       "      <th>reserve_umpire</th>\n",
       "      <th>match_referee</th>\n",
       "      <th>winner</th>\n",
       "      <th>winner_runs</th>\n",
       "      <th>winner_wickets</th>\n",
       "      <th>match_type</th>\n",
       "    </tr>\n",
       "  </thead>\n",
       "  <tbody>\n",
       "    <tr>\n",
       "      <th>0</th>\n",
       "      <td>2023</td>\n",
       "      <td>Chennai Super Kings</td>\n",
       "      <td>Gujarat Titans</td>\n",
       "      <td>2023/03/31</td>\n",
       "      <td>1</td>\n",
       "      <td>Narendra Modi Stadium</td>\n",
       "      <td>Ahmedabad</td>\n",
       "      <td>Gujarat Titans</td>\n",
       "      <td>field</td>\n",
       "      <td>Rashid Khan</td>\n",
       "      <td>Nitin Menon</td>\n",
       "      <td>HAS Khalid</td>\n",
       "      <td>A Bengeri</td>\n",
       "      <td>J Srinath</td>\n",
       "      <td>Gujarat Titans</td>\n",
       "      <td>0.0</td>\n",
       "      <td>5.0</td>\n",
       "      <td>Group</td>\n",
       "    </tr>\n",
       "    <tr>\n",
       "      <th>4</th>\n",
       "      <td>2023</td>\n",
       "      <td>Mumbai Indians</td>\n",
       "      <td>Royal Challengers Bangalore</td>\n",
       "      <td>2023/04/02</td>\n",
       "      <td>5</td>\n",
       "      <td>M Chinnaswamy Stadium</td>\n",
       "      <td>Bengaluru</td>\n",
       "      <td>Royal Challengers Bangalore</td>\n",
       "      <td>field</td>\n",
       "      <td>F du Plessis</td>\n",
       "      <td>Nitin Menon</td>\n",
       "      <td>Tapan Sharma</td>\n",
       "      <td>A Bengeri</td>\n",
       "      <td>J Srinath</td>\n",
       "      <td>Royal Challengers Bangalore</td>\n",
       "      <td>0.0</td>\n",
       "      <td>8.0</td>\n",
       "      <td>Group</td>\n",
       "    </tr>\n",
       "    <tr>\n",
       "      <th>6</th>\n",
       "      <td>2023</td>\n",
       "      <td>Delhi Capitals</td>\n",
       "      <td>Gujarat Titans</td>\n",
       "      <td>2023/04/04</td>\n",
       "      <td>7</td>\n",
       "      <td>Arun Jaitley Stadium</td>\n",
       "      <td>Delhi</td>\n",
       "      <td>Gujarat Titans</td>\n",
       "      <td>field</td>\n",
       "      <td>B Sai Sudharsan</td>\n",
       "      <td>A Nand Kishore</td>\n",
       "      <td>GR Sadashiv Iyer</td>\n",
       "      <td>M Kuppuraj</td>\n",
       "      <td>DS Manohar</td>\n",
       "      <td>Gujarat Titans</td>\n",
       "      <td>0.0</td>\n",
       "      <td>6.0</td>\n",
       "      <td>Group</td>\n",
       "    </tr>\n",
       "    <tr>\n",
       "      <th>9</th>\n",
       "      <td>2023</td>\n",
       "      <td>Sunrisers Hyderabad</td>\n",
       "      <td>Lucknow Super Giants</td>\n",
       "      <td>2023/04/07</td>\n",
       "      <td>10</td>\n",
       "      <td>Bharat Ratna Shri Atal Bihari Vajpayee Ekana C...</td>\n",
       "      <td>Lucknow</td>\n",
       "      <td>Sunrisers Hyderabad</td>\n",
       "      <td>bat</td>\n",
       "      <td>KH Pandya</td>\n",
       "      <td>J Madanagopal</td>\n",
       "      <td>YC Barde</td>\n",
       "      <td>PM Joshi</td>\n",
       "      <td>M Nayyar</td>\n",
       "      <td>Lucknow Super Giants</td>\n",
       "      <td>0.0</td>\n",
       "      <td>5.0</td>\n",
       "      <td>Group</td>\n",
       "    </tr>\n",
       "    <tr>\n",
       "      <th>11</th>\n",
       "      <td>2023</td>\n",
       "      <td>Mumbai Indians</td>\n",
       "      <td>Chennai Super Kings</td>\n",
       "      <td>2023/04/08</td>\n",
       "      <td>12</td>\n",
       "      <td>Wankhede Stadium</td>\n",
       "      <td>Mumbai</td>\n",
       "      <td>Chennai Super Kings</td>\n",
       "      <td>field</td>\n",
       "      <td>RA Jadeja</td>\n",
       "      <td>CB Gaffaney</td>\n",
       "      <td>NA Patwardhan</td>\n",
       "      <td>M Kuppuraj</td>\n",
       "      <td>DS Manohar</td>\n",
       "      <td>Chennai Super Kings</td>\n",
       "      <td>0.0</td>\n",
       "      <td>7.0</td>\n",
       "      <td>Group</td>\n",
       "    </tr>\n",
       "  </tbody>\n",
       "</table>\n",
       "</div>"
      ],
      "text/plain": [
       "    season                team1                        team2        date  \\\n",
       "0     2023  Chennai Super Kings               Gujarat Titans  2023/03/31   \n",
       "4     2023       Mumbai Indians  Royal Challengers Bangalore  2023/04/02   \n",
       "6     2023       Delhi Capitals               Gujarat Titans  2023/04/04   \n",
       "9     2023  Sunrisers Hyderabad         Lucknow Super Giants  2023/04/07   \n",
       "11    2023       Mumbai Indians          Chennai Super Kings  2023/04/08   \n",
       "\n",
       "    match_number                                              venue  \\\n",
       "0              1                              Narendra Modi Stadium   \n",
       "4              5                              M Chinnaswamy Stadium   \n",
       "6              7                               Arun Jaitley Stadium   \n",
       "9             10  Bharat Ratna Shri Atal Bihari Vajpayee Ekana C...   \n",
       "11            12                                   Wankhede Stadium   \n",
       "\n",
       "         city                  toss_winner toss_decision  player_of_match  \\\n",
       "0   Ahmedabad               Gujarat Titans         field      Rashid Khan   \n",
       "4   Bengaluru  Royal Challengers Bangalore         field     F du Plessis   \n",
       "6       Delhi               Gujarat Titans         field  B Sai Sudharsan   \n",
       "9     Lucknow          Sunrisers Hyderabad           bat        KH Pandya   \n",
       "11     Mumbai          Chennai Super Kings         field        RA Jadeja   \n",
       "\n",
       "           umpire1           umpire2 reserve_umpire match_referee  \\\n",
       "0      Nitin Menon        HAS Khalid      A Bengeri     J Srinath   \n",
       "4      Nitin Menon      Tapan Sharma      A Bengeri     J Srinath   \n",
       "6   A Nand Kishore  GR Sadashiv Iyer     M Kuppuraj    DS Manohar   \n",
       "9    J Madanagopal          YC Barde       PM Joshi      M Nayyar   \n",
       "11     CB Gaffaney     NA Patwardhan     M Kuppuraj    DS Manohar   \n",
       "\n",
       "                         winner  winner_runs  winner_wickets match_type  \n",
       "0                Gujarat Titans          0.0             5.0      Group  \n",
       "4   Royal Challengers Bangalore          0.0             8.0      Group  \n",
       "6                Gujarat Titans          0.0             6.0      Group  \n",
       "9          Lucknow Super Giants          0.0             5.0      Group  \n",
       "11          Chennai Super Kings          0.0             7.0      Group  "
      ]
     },
     "execution_count": 42,
     "metadata": {},
     "output_type": "execute_result"
    }
   ],
   "source": [
    "#extracting the records where a team won by batting second\n",
    "bat_sec=ipl[ipl[\"winner_wickets\"]!=0]\n",
    "bat_sec.head()"
   ]
  },
  {
   "cell_type": "code",
   "execution_count": 17,
   "id": "39aad639",
   "metadata": {},
   "outputs": [
    {
     "data": {
      "image/png": "[encoded data removed]",
      "text/plain": [
       "<Figure size 640x480 with 1 Axes>"
      ]
     },
     "metadata": {},
     "output_type": "display_data"
    }
   ],
   "source": [
    "#making histogram\n",
    "plt.hist(bat_sec[\"winner_wickets\"],bins=30)\n",
    "plt.show()"
   ]
  },
  {
   "cell_type": "code",
   "execution_count": 18,
   "id": "168dde0b",
   "metadata": {},
   "outputs": [
    {
     "data": {
      "text/plain": [
       "Gujarat Titans                 6\n",
       "Mumbai Indians                 6\n",
       "Chennai Super Kings            4\n",
       "Lucknow Super Giants           3\n",
       "Kolkata Knight Riders          3\n",
       "Rajasthan Royals               3\n",
       "Royal Challengers Bangalore    2\n",
       "Sunrisers Hyderabad            2\n",
       "Punjab Kings                   2\n",
       "Delhi Capitals                 2\n",
       "Name: winner, dtype: int64"
      ]
     },
     "execution_count": 18,
     "metadata": {},
     "output_type": "execute_result"
    }
   ],
   "source": [
    "#finding no. of wins w.r.t. each team by batting Second\n",
    "bat_sec[\"winner\"].value_counts()"
   ]
  },
  {
   "cell_type": "code",
   "execution_count": 25,
   "id": "60a8c8f3",
   "metadata": {},
   "outputs": [
    {
     "data": {
      "image/png": "[encoded data removed]",
      "text/plain": [
       "<Figure size 1000x300 with 1 Axes>"
      ]
     },
     "metadata": {},
     "output_type": "display_data"
    }
   ],
   "source": [
    "#Bar-plot for top 3 teams who win by batting Second\n",
    "plt.figure(figsize=(10,3))\n",
    "l1=list(bat_sec[\"winner\"].value_counts()[0:3].keys())\n",
    "l2=list(bat_sec[\"winner\"].value_counts()[0:3])\n",
    "plt.bar(l1,l2,color='g')\n",
    "plt.show()"
   ]
  },
  {
   "cell_type": "code",
   "execution_count": 24,
   "id": "a51bdc52",
   "metadata": {},
   "outputs": [
    {
     "data": {
      "image/png": "[encoded data removed]",
      "text/plain": [
       "<Figure size 640x480 with 1 Axes>"
      ]
     },
     "metadata": {},
     "output_type": "display_data"
    }
   ],
   "source": [
    "#making a pie-chart\n",
    "plt.pie(l2,labels=l1,autopct=\"%0.1f%%\")\n",
    "plt.title(\"Winning by batting Second(Top-3)\")\n",
    "plt.show()"
   ]
  },
  {
   "cell_type": "code",
   "execution_count": 29,
   "id": "8aad0523",
   "metadata": {},
   "outputs": [
    {
     "data": {
      "text/plain": [
       "Ahmedabad     9\n",
       "Chennai       9\n",
       "Lucknow       7\n",
       "Hyderabad     7\n",
       "Bengaluru     7\n",
       "Delhi         7\n",
       "Kolkata       7\n",
       "Mumbai        7\n",
       "Chandigarh    5\n",
       "Jaipur        5\n",
       "Guwahati      2\n",
       "Dharamsala    2\n",
       "Name: city, dtype: int64"
      ]
     },
     "execution_count": 29,
     "metadata": {},
     "output_type": "execute_result"
    }
   ],
   "source": [
    "#No. of matches played in each city\n",
    "ipl[\"city\"].value_counts()"
   ]
  },
  {
   "cell_type": "code",
   "execution_count": 45,
   "id": "66c23825",
   "metadata": {},
   "outputs": [
    {
     "data": {
      "text/plain": [
       "34"
      ]
     },
     "execution_count": 45,
     "metadata": {},
     "output_type": "execute_result"
    }
   ],
   "source": [
    "#finding how many teams won the match by winning the toss\n",
    "import numpy as np\n",
    "np.sum(ipl[\"winner\"]==ipl[\"toss_winner\"])"
   ]
  },
  {
   "cell_type": "code",
   "execution_count": 48,
   "id": "87721b9c",
   "metadata": {},
   "outputs": [
    {
     "name": "stdout",
     "output_type": "stream",
     "text": [
      "45.94594594594595 %\n"
     ]
    }
   ],
   "source": [
    "#calculating possibilty that if team win the toss it will also won the match or not\n",
    "perc=34/74*100\n",
    "print(perc,\"%\")"
   ]
  },
  {
   "cell_type": "code",
   "execution_count": null,
   "id": "edc9d4ae",
   "metadata": {},
   "outputs": [],
   "source": []
  },
  {
   "cell_type": "code",
   "execution_count": null,
   "id": "84fcee87",
   "metadata": {},
   "outputs": [],
   "source": []
  },
  {
   "cell_type": "code",
   "execution_count": null,
   "id": "e2de9871",
   "metadata": {},
   "outputs": [],
   "source": []
  },
  {
   "cell_type": "code",
   "execution_count": null,
   "id": "b221e5d7",
   "metadata": {},
   "outputs": [],
   "source": []
  }
 ],
 "metadata": {
  "kernelspec": {
   "display_name": "Python 3 (ipykernel)",
   "language": "python",
   "name": "python3"
  },
  "language_info": {
   "codemirror_mode": {
    "name": "ipython",
    "version": 3
   },
   "file_extension": ".py",
   "mimetype": "text/x-python",
   "name": "python",
   "nbconvert_exporter": "python",
   "pygments_lexer": "ipython3",
   "version": "3.10.10"
  }
 },
 "nbformat": 4,
 "nbformat_minor": 5
}
